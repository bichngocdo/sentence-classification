{
 "cells": [
  {
   "cell_type": "code",
   "execution_count": 1,
   "id": "a02d1a71",
   "metadata": {},
   "outputs": [],
   "source": [
    "import matplotlib.pyplot as plt\n",
    "import pandas as pd\n",
    "import seaborn as sns\n",
    "from transformers import AutoTokenizer"
   ]
  },
  {
   "cell_type": "markdown",
   "id": "51c72732",
   "metadata": {},
   "source": [
    "# Data"
   ]
  },
  {
   "cell_type": "code",
   "execution_count": 2,
   "id": "3f617966",
   "metadata": {},
   "outputs": [
    {
     "data": {
      "text/html": [
       "<div>\n",
       "<style scoped>\n",
       "    .dataframe tbody tr th:only-of-type {\n",
       "        vertical-align: middle;\n",
       "    }\n",
       "\n",
       "    .dataframe tbody tr th {\n",
       "        vertical-align: top;\n",
       "    }\n",
       "\n",
       "    .dataframe thead th {\n",
       "        text-align: right;\n",
       "    }\n",
       "</style>\n",
       "<table border=\"1\" class=\"dataframe\">\n",
       "  <thead>\n",
       "    <tr style=\"text-align: right;\">\n",
       "      <th></th>\n",
       "      <th>file</th>\n",
       "      <th>sentence</th>\n",
       "      <th>label</th>\n",
       "      <th>position</th>\n",
       "      <th>xmin</th>\n",
       "      <th>xmax</th>\n",
       "      <th>ymin</th>\n",
       "      <th>ymax</th>\n",
       "    </tr>\n",
       "  </thead>\n",
       "  <tbody>\n",
       "    <tr>\n",
       "      <th>0</th>\n",
       "      <td>data/101.tar_1804.04614.gz_CMN_Final_Draft_1.json</td>\n",
       "      <td>(cid:18) (cid:19)</td>\n",
       "      <td>equation</td>\n",
       "      <td>0</td>\n",
       "      <td>718</td>\n",
       "      <td>800</td>\n",
       "      <td>52</td>\n",
       "      <td>99</td>\n",
       "    </tr>\n",
       "    <tr>\n",
       "      <th>1</th>\n",
       "      <td>data/101.tar_1804.04614.gz_CMN_Final_Draft_1.json</td>\n",
       "      <td>unknown. If we treat these unknown parameters,...</td>\n",
       "      <td>paragraph</td>\n",
       "      <td>1</td>\n",
       "      <td>80</td>\n",
       "      <td>490</td>\n",
       "      <td>68</td>\n",
       "      <td>98</td>\n",
       "    </tr>\n",
       "    <tr>\n",
       "      <th>2</th>\n",
       "      <td>data/101.tar_1804.04614.gz_CMN_Final_Draft_1.json</td>\n",
       "      <td>\u2212 y Ax || ||</td>\n",
       "      <td>equation</td>\n",
       "      <td>2</td>\n",
       "      <td>732</td>\n",
       "      <td>857</td>\n",
       "      <td>81</td>\n",
       "      <td>111</td>\n",
       "    </tr>\n",
       "    <tr>\n",
       "      <th>3</th>\n",
       "      <td>data/101.tar_1804.04614.gz_CMN_Final_Draft_1.json</td>\n",
       "      <td>to \ufb01nd the original sparse signal.</td>\n",
       "      <td>paragraph</td>\n",
       "      <td>3</td>\n",
       "      <td>80</td>\n",
       "      <td>315</td>\n",
       "      <td>97</td>\n",
       "      <td>112</td>\n",
       "    </tr>\n",
       "    <tr>\n",
       "      <th>4</th>\n",
       "      <td>data/101.tar_1804.04614.gz_CMN_Final_Draft_1.json</td>\n",
       "      <td>The EM algorithm [13]</td>\n",
       "      <td>paragraph</td>\n",
       "      <td>4</td>\n",
       "      <td>324</td>\n",
       "      <td>490</td>\n",
       "      <td>97</td>\n",
       "      <td>112</td>\n",
       "    </tr>\n",
       "  </tbody>\n",
       "</table>\n",
       "</div>"
      ],
      "text/plain": [
       "                                                file  \\\n",
       "0  data/101.tar_1804.04614.gz_CMN_Final_Draft_1.json   \n",
       "1  data/101.tar_1804.04614.gz_CMN_Final_Draft_1.json   \n",
       "2  data/101.tar_1804.04614.gz_CMN_Final_Draft_1.json   \n",
       "3  data/101.tar_1804.04614.gz_CMN_Final_Draft_1.json   \n",
       "4  data/101.tar_1804.04614.gz_CMN_Final_Draft_1.json   \n",
       "\n",
       "                                            sentence      label  position  \\\n",
       "0                                  (cid:18) (cid:19)   equation         0   \n",
       "1  unknown. If we treat these unknown parameters,...  paragraph         1   \n",
       "2                                       \u2212 y Ax || ||   equation         2   \n",
       "3                 to \ufb01nd the original sparse signal.  paragraph         3   \n",
       "4                              The EM algorithm [13]  paragraph         4   \n",
       "\n",
       "   xmin  xmax  ymin  ymax  \n",
       "0   718   800    52    99  \n",
       "1    80   490    68    98  \n",
       "2   732   857    81   111  \n",
       "3    80   315    97   112  \n",
       "4   324   490    97   112  "
      ]
     },
     "execution_count": 2,
     "metadata": {},
     "output_type": "execute_result"
    }
   ],
   "source": [
    "df = pd.read_csv('SPSC.csv')\n",
    "df['sentence'] = df['sentence'].astype('str')\n",
    "df['label'] = df['label'].astype('category')\n",
    "df.head()"
   ]
  },
  {
   "cell_type": "code",
   "execution_count": 3,
   "id": "cede9fcc",
   "metadata": {},
   "outputs": [
    {
     "name": "stdout",
     "output_type": "stream",
     "text": [
      "<class 'pandas.core.frame.DataFrame'>\n",
      "RangeIndex: 458687 entries, 0 to 458686\n",
      "Data columns (total 8 columns):\n",
      " #   Column    Non-Null Count   Dtype   \n",
      "---  ------    --------------   -----   \n",
      " 0   file      458687 non-null  object  \n",
      " 1   sentence  458687 non-null  object  \n",
      " 2   label     458687 non-null  category\n",
      " 3   position  458687 non-null  int64   \n",
      " 4   xmin      458687 non-null  int64   \n",
      " 5   xmax      458687 non-null  int64   \n",
      " 6   ymin      458687 non-null  int64   \n",
      " 7   ymax      458687 non-null  int64   \n",
      "dtypes: category(1), int64(5), object(2)\n",
      "memory usage: 24.9+ MB\n"
     ]
    }
   ],
   "source": [
    "df.info()"
   ]
  },
  {
   "cell_type": "markdown",
   "id": "f956bfc9",
   "metadata": {},
   "source": [
    "# Analysis"
   ]
  },
  {
   "cell_type": "markdown",
   "id": "ae31ae9a",
   "metadata": {},
   "source": [
    "## Label"
   ]
  },
  {
   "cell_type": "code",
   "execution_count": 4,
   "id": "3b4476eb",
   "metadata": {},
   "outputs": [
    {
     "data": {
      "image/png": "[encoded data removed]",
      "text/plain": [
       "<Figure size 432x288 with 1 Axes>"
      ]
     },
     "metadata": {},
     "output_type": "display_data"
    }
   ],
   "source": [
    "sns.set_theme(style='darkgrid')\n",
    "ax = sns.countplot(data=df, x='label')\n",
    "ax.tick_params(axis='x', rotation=90)"
   ]
  },
  {
   "cell_type": "markdown",
   "id": "016ec619",
   "metadata": {},
   "source": [
    "## Sentence Length"
   ]
  },
  {
   "cell_type": "code",
   "execution_count": 5,
   "id": "08cd8645",
   "metadata": {},
   "outputs": [],
   "source": [
    "tokenizer = AutoTokenizer.from_pretrained('allenai/scibert_scivocab_uncased')"
   ]
  },
  {
   "cell_type": "code",
   "execution_count": 6,
   "id": "08e255bf",
   "metadata": {},
   "outputs": [],
   "source": [
    "sentence_lengths = df['sentence'].apply(lambda s: len(tokenizer(s)[0]))\n",
    "sentence_lengths.rename('sentence_length', inplace=True)"
   ]
  },
  {
   "cell_type": "code",
   "execution_count": 7,
   "id": "28ea51e4",
   "metadata": {},
   "outputs": [
    {
     "data": {
      "text/plain": [
       "<AxesSubplot:xlabel='sentence_length', ylabel='Count'>"
      ]
     },
     "execution_count": 7,
     "metadata": {},
     "output_type": "execute_result"
    },
    {
     "data": {
      "image/png": "[encoded data removed]",
      "text/plain": [
       "<Figure size 432x288 with 1 Axes>"
      ]
     },
     "metadata": {},
     "output_type": "display_data"
    }
   ],
   "source": [
    "sns.histplot(data=sentence_lengths, bins=100, log_scale=True)"
   ]
  },
  {
   "cell_type": "code",
   "execution_count": 8,
   "id": "e573bc41",
   "metadata": {},
   "outputs": [
    {
     "data": {
      "text/plain": [
       "paragraph    4170\n",
       "equation     1273\n",
       "table         498\n",
       "figure        169\n",
       "list          131\n",
       "reference      40\n",
       "author         27\n",
       "caption        19\n",
       "footer          4\n",
       "abstract        3\n",
       "date            0\n",
       "section         0\n",
       "title           0\n",
       "Name: label, dtype: int64"
      ]
     },
     "execution_count": 8,
     "metadata": {},
     "output_type": "execute_result"
    }
   ],
   "source": [
    "df[sentence_lengths > 128]['label'].value_counts()"
   ]
  },
  {
   "cell_type": "markdown",
   "id": "21aeabe4",
   "metadata": {},
   "source": [
    "## Paper Length"
   ]
  },
  {
   "cell_type": "code",
   "execution_count": 9,
   "id": "c6f589bf",
   "metadata": {},
   "outputs": [
    {
     "data": {
      "text/plain": [
       "data/100.tar_1408.1411.gz_CBPonHHL_15.json                 311\n",
       "data/103.tar_1507.01070.gz_MDtechRep_1.json                283\n",
       "data/105.tar_1606.01410.gz_jodon_surface_energy_16.json    273\n",
       "data/103.tar_1804.05573.gz_pdcro2_9.json                   268\n",
       "data/105.tar_1507.02253.gz_Full_1.json                     260\n",
       "                                                          ... \n",
       "data/102.tar_1606.00013.gz_ms_1.json                         1\n",
       "data/104.tar_1408.3549.gz_arXiv_master_6.json                1\n",
       "data/104.tar_1804.05884.gz_Hecke5_11.json                    1\n",
       "data/100.tar_1705.04128.gz_manuscript_10.json                1\n",
       "data/10.tar_1801.04059.gz_ms_12.json                         1\n",
       "Name: paper_length, Length: 13910, dtype: int64"
      ]
     },
     "execution_count": 9,
     "metadata": {},
     "output_type": "execute_result"
    }
   ],
   "source": [
    "paper_lengths = df['file'].value_counts()\n",
    "paper_lengths.rename('paper_length', inplace=True)"
   ]
  },
  {
   "cell_type": "code",
   "execution_count": 10,
   "id": "863c4605",
   "metadata": {},
   "outputs": [
    {
     "data": {
      "text/plain": [
       "<AxesSubplot:xlabel='paper_length', ylabel='Count'>"
      ]
     },
     "execution_count": 10,
     "metadata": {},
     "output_type": "execute_result"
    },
    {
     "data": {
      "image/png": "[encoded data removed]",
      "text/plain": [
       "<Figure size 432x288 with 1 Axes>"
      ]
     },
     "metadata": {},
     "output_type": "display_data"
    }
   ],
   "source": [
    "sns.histplot(data=paper_lengths)"
   ]
  },
  {
   "cell_type": "markdown",
   "id": "b8bfea58",
   "metadata": {},
   "source": [
    "## Feature Correlation"
   ]
  },
  {
   "cell_type": "code",
   "execution_count": 11,
   "id": "c7d6c951",
   "metadata": {},
   "outputs": [
    {
     "data": {
      "text/plain": [
       "<AxesSubplot:>"
      ]
     },
     "execution_count": 11,
     "metadata": {},
     "output_type": "execute_result"
    },
    {
     "data": {
      "image/png": "[encoded data removed]",
      "text/plain": [
       "<Figure size 432x288 with 2 Axes>"
      ]
     },
     "metadata": {},
     "output_type": "display_data"
    }
   ],
   "source": [
    "features = df[['label', 'xmin', 'xmax', 'ymin', 'ymax', 'position']].copy()\n",
    "features['label'] = pd.factorize(features['label'])[0]\n",
    "\n",
    "sns.heatmap(features.corr(), annot=True, cmap=plt.cm.Reds)"
   ]
  },
  {
   "cell_type": "code",
   "execution_count": null,
   "id": "d664c96c",
   "metadata": {},
   "outputs": [],
   "source": []
  }
 ],
 "metadata": {
  "kernelspec": {
   "display_name": "Python 3",
   "language": "python",
   "name": "python3"
  },
  "language_info": {
   "codemirror_mode": {
    "name": "ipython",
    "version": 3
   },
   "file_extension": ".py",
   "mimetype": "text/x-python",
   "name": "python",
   "nbconvert_exporter": "python",
   "pygments_lexer": "ipython3",
   "version": "3.8.10"
  }
 },
 "nbformat": 4,
 "nbformat_minor": 5
}